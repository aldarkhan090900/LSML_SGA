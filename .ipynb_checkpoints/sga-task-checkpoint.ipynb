{
 "cells": [
  {
   "cell_type": "markdown",
   "metadata": {},
   "source": [
    "# User routes on the site\n",
    "## Description\n",
    "**Clickstream** is a sequence of user actions on a website. It allows you to understand how users interact with the site. In this task, you need to find the most frequent custom routes.\n",
    "\n",
    "## Input data\n",
    "Input data is а table with clickstream data in file `hdfs:/data/clickstream.csv`.\n",
    "\n",
    "### Table structure\n",
    "* `user_id (int)` - Unique user identifier.\n",
    "* `session_id (int)` - Unique identifier for the user session. The user's session lasts until the identifier changes.\n",
    "* `event_type (string)` - Event type from the list:\n",
    "    * **page** - visit to the page\n",
    "    * **event** - any action on the page\n",
    "    * <b>&lt;custom&gt;</b> - string with any other type\n",
    "* `event_type (string)` - Page on the site.\n",
    "* `timestamp (int)` - Unix-timestamp of action.\n",
    "\n",
    "### Browser errors\n",
    "Errors can sometimes occur in the user's browser - after such an error appears, we can no longer trust the data of this session and all the following lines after the error or at the same time with it are considered corrupted and **should not be counted** in statistics.\n",
    "\n",
    "When an error occurs on the page, a random string containing the word **error** will be written to the `event_type` field.\n",
    "\n",
    "### Sample of user session\n",
    "<pre>\n",
    "+-------+----------+------------+----------+----------+\n",
    "|user_id|session_id|  event_type|event_page| timestamp|\n",
    "+-------+----------+------------+----------+----------+\n",
    "|    562|       507|        page|      main|1620494781|\n",
    "|    562|       507|       event|      main|1620494788|\n",
    "|    562|       507|       event|      main|1620494798|\n",
    "|    562|       507|        page|    family|1620494820|\n",
    "|    562|       507|       event|    family|1620494828|\n",
    "|    562|       507|        page|      main|1620494848|\n",
    "|    562|       507|wNaxLlerrorU|      main|1620494865|\n",
    "|    562|       507|       event|      main|1620494873|\n",
    "|    562|       507|        page|      news|1620494875|\n",
    "|    562|       507|        page|   tariffs|1620494876|\n",
    "|    562|       507|       event|   tariffs|1620494884|\n",
    "|    562|       514|        page|      main|1620728918|\n",
    "|    562|       514|       event|      main|1620729174|\n",
    "|    562|       514|        page|   archive|1620729674|\n",
    "|    562|       514|        page|     bonus|1620729797|\n",
    "|    562|       514|        page|   tariffs|1620731090|\n",
    "|    562|       514|       event|   tariffs|1620731187|\n",
    "+-------+----------+------------+----------+----------+\n",
    "</pre>\n",
    "\n",
    "#### Correct user routes for a given user:\n",
    "* **Session 507**: main-family-main\n",
    "* **Session 514**: main-archive-bonus-tariffs\n",
    "\n",
    "Route elements are ordered by the time they appear in the clickstream, from earliest to latest.\n",
    "\n",
    "The route must be accounted for completely before the end of the session or an error in the session.\n",
    "\n",
    "## Task\n",
    "You need to use the Spark SQL, Spark RDD and Spark DF interfaces to create a solution file, the lines of which contain **the 30 most frequent user routes** on the site.\n",
    "\n",
    "Each line of the file should contain the `route` and `count` values **separated by tabs**, where:\n",
    "* `route` - route on the site, consisting of pages separated by \"-\".\n",
    "* `count` - the number of user sessions in which this route was.\n",
    "\n",
    "The lines must be **ordered in descending order** of the `count` field.\n",
    "\n",
    "## Criteria\n",
    "You can get maximum of 3.5 points (final grade) for this assignment, depedning on the number of interface you manage to leverage. The criteria are as follows:\n",
    "\n",
    "* 0.5 points – Spark SQL solution with 1 query\n",
    "* 0.5 points – Spark SQL solution with <=2 queries\n",
    "* 0.5 points – Spark RDD solution\n",
    "* 0.5 points – Spark DF solution\n",
    "* 0.5 points – your solution algorithm is relatively optimized, i.e.: no O^2 or O^3 complexities; appropriate object usage; no data leaks etc. This is evaluated by staff.\n",
    "* 1 point – 1 on 1 screening session. During this session staff member can ask you questions regarding your solution logic, framework usage, questionable parts of your code etc. If your code is clean enough, the staff member can just ask you to solve a theoretical problem connected to Spark.\n"
   ]
  },
  {
   "cell_type": "code",
   "execution_count": 1,
   "metadata": {
    "tags": []
   },
   "outputs": [
    {
     "name": "stderr",
     "output_type": "stream",
     "text": [
      "Setting default log level to \"WARN\".\n",
      "To adjust logging level use sc.setLogLevel(newLevel). For SparkR, use setLogLevel(newLevel).\n",
      "2024-01-21 13:41:22,364 WARN yarn.Client: Neither spark.yarn.jars nor spark.yarn.archive is set, falling back to uploading libraries under SPARK_HOME.\n"
     ]
    }
   ],
   "source": [
    "import pandas as pd\n",
    "\n",
    "import findspark\n",
    "findspark.init()\n",
    "\n",
    "from pyspark import SparkContext\n",
    "from pyspark.sql import SparkSession\n",
    "\n",
    "sc = SparkContext(appName=\"SGA\")\n",
    "se = SparkSession(sc)"
   ]
  },
  {
   "cell_type": "code",
   "execution_count": 2,
   "metadata": {
    "tags": []
   },
   "outputs": [
    {
     "name": "stderr",
     "output_type": "stream",
     "text": [
      "                                                                                \r"
     ]
    },
    {
     "data": {
      "text/html": [
       "<div>\n",
       "<style scoped>\n",
       "    .dataframe tbody tr th:only-of-type {\n",
       "        vertical-align: middle;\n",
       "    }\n",
       "\n",
       "    .dataframe tbody tr th {\n",
       "        vertical-align: top;\n",
       "    }\n",
       "\n",
       "    .dataframe thead th {\n",
       "        text-align: right;\n",
       "    }\n",
       "</style>\n",
       "<table border=\"1\" class=\"dataframe\">\n",
       "  <thead>\n",
       "    <tr style=\"text-align: right;\">\n",
       "      <th></th>\n",
       "      <th>user_id</th>\n",
       "      <th>session_id</th>\n",
       "      <th>event_type</th>\n",
       "      <th>event_page</th>\n",
       "      <th>timestamp</th>\n",
       "    </tr>\n",
       "  </thead>\n",
       "  <tbody>\n",
       "    <tr>\n",
       "      <th>0</th>\n",
       "      <td>562</td>\n",
       "      <td>507</td>\n",
       "      <td>page</td>\n",
       "      <td>main</td>\n",
       "      <td>1695584127</td>\n",
       "    </tr>\n",
       "    <tr>\n",
       "      <th>1</th>\n",
       "      <td>562</td>\n",
       "      <td>507</td>\n",
       "      <td>event</td>\n",
       "      <td>main</td>\n",
       "      <td>1695584134</td>\n",
       "    </tr>\n",
       "    <tr>\n",
       "      <th>2</th>\n",
       "      <td>562</td>\n",
       "      <td>507</td>\n",
       "      <td>event</td>\n",
       "      <td>main</td>\n",
       "      <td>1695584144</td>\n",
       "    </tr>\n",
       "    <tr>\n",
       "      <th>3</th>\n",
       "      <td>562</td>\n",
       "      <td>507</td>\n",
       "      <td>event</td>\n",
       "      <td>main</td>\n",
       "      <td>1695584147</td>\n",
       "    </tr>\n",
       "    <tr>\n",
       "      <th>4</th>\n",
       "      <td>562</td>\n",
       "      <td>507</td>\n",
       "      <td>wNaxLlerrorU</td>\n",
       "      <td>main</td>\n",
       "      <td>1695584154</td>\n",
       "    </tr>\n",
       "  </tbody>\n",
       "</table>\n",
       "</div>"
      ],
      "text/plain": [
       "  user_id session_id    event_type event_page   timestamp\n",
       "0     562        507          page       main  1695584127\n",
       "1     562        507         event       main  1695584134\n",
       "2     562        507         event       main  1695584144\n",
       "3     562        507         event       main  1695584147\n",
       "4     562        507  wNaxLlerrorU       main  1695584154"
      ]
     },
     "execution_count": 2,
     "metadata": {},
     "output_type": "execute_result"
    }
   ],
   "source": [
    "clickstream = se.read.csv('hdfs:/data/clickstream.csv', header=True, sep='\\t')\n",
    "clickstream.registerTempTable(\"clickstream\")\n",
    "clickstream.limit(5).toPandas()"
   ]
  },
  {
   "cell_type": "markdown",
   "metadata": {},
   "source": [
    "# Spark SQL "
   ]
  },
  {
   "cell_type": "code",
   "execution_count": 3,
   "metadata": {
    "tags": []
   },
   "outputs": [
    {
     "name": "stderr",
     "output_type": "stream",
     "text": [
      "                                                                                \r"
     ]
    },
    {
     "name": "stdout",
     "output_type": "stream",
     "text": [
      "+--------------------+-----+\n",
      "|               route|count|\n",
      "+--------------------+-----+\n",
      "|                main| 8184|\n",
      "|        main-archive| 1112|\n",
      "|         main-rabota| 1047|\n",
      "|       main-internet|  896|\n",
      "|          main-bonus|  870|\n",
      "|           main-news|  769|\n",
      "|        main-tariffs|  677|\n",
      "|         main-online|  587|\n",
      "|          main-vklad|  518|\n",
      "| main-rabota-archive|  170|\n",
      "| main-archive-rabota|  167|\n",
      "|  main-bonus-archive|  143|\n",
      "|   main-rabota-bonus|  138|\n",
      "|   main-bonus-rabota|  136|\n",
      "|    main-news-rabota|  135|\n",
      "|main-archive-inte...|  132|\n",
      "|    main-rabota-news|  130|\n",
      "|main-internet-rabota|  129|\n",
      "|   main-archive-news|  126|\n",
      "|main-rabota-internet|  124|\n",
      "|main-internet-arc...|  123|\n",
      "|  main-archive-bonus|  117|\n",
      "| main-internet-bonus|  115|\n",
      "|main-tariffs-inte...|  114|\n",
      "|   main-news-archive|  113|\n",
      "|  main-news-internet|  109|\n",
      "|main-archive-tariffs|  104|\n",
      "|main-tariffs-archive|  103|\n",
      "|  main-internet-news|  103|\n",
      "|    main-rabota-main|   94|\n",
      "+--------------------+-----+\n",
      "\n"
     ]
    },
    {
     "name": "stderr",
     "output_type": "stream",
     "text": [
      "                                                                                \r"
     ]
    }
   ],
   "source": [
    "sql_solution = se.sql(\n",
    "    \"\"\"\n",
    "    WITH error_table as\n",
    "    (\n",
    "    SELECT *, SUM(CAST(event_type LIKE '%error%' AS int))\n",
    "              OVER(PARTITION BY user_id, session_id\n",
    "                   ORDER BY timestamp, event_type, event_page) error\n",
    "    FROM clickstream\n",
    "    ), distinct_table as\n",
    "    (\n",
    "    SELECT distinct user_id, session_id, event_page,\n",
    "    SUM(CAST(event_page != LAG(event_page, 1, event_page)\n",
    "                           OVER(PARTITION BY user_id, session_id\n",
    "                                ORDER BY timestamp, event_type, event_page)\n",
    "        AS int))\n",
    "    OVER(PARTITION BY user_id, session_id\n",
    "         ORDER BY timestamp, event_type, event_page) change\n",
    "    FROM error_table\n",
    "    WHERE error = 0\n",
    "    ), route_table AS\n",
    "    (\n",
    "    SELECT distinct user_id, session_id,\n",
    "    REPLACE(\n",
    "            REPLACE(\n",
    "                    REPLACE(\n",
    "                            CAST(COLLECT_LIST(event_page)\n",
    "                                 OVER(PARTITION BY user_id, session_id)\n",
    "                                 AS string),\n",
    "                            \"[\",\n",
    "                            \"\"\n",
    "                            ),\n",
    "                     \"]\",\n",
    "                     \"\"\n",
    "                     ),\n",
    "            \", \",\n",
    "            \"-\"\n",
    "            ) route\n",
    "    FROM distinct_table\n",
    "    )\n",
    "    SELECT route, COUNT(*) count\n",
    "    FROM route_table\n",
    "    GROUP BY route\n",
    "    ORDER BY count DESC, route DESC\n",
    "    LIMIT 30;\n",
    "    \"\"\"\n",
    ")\n",
    "sql_solution.show(30)\n",
    "sql_solution.toPandas().to_csv('sql_solution.csv', sep='\\t')"
   ]
  },
  {
   "cell_type": "markdown",
   "metadata": {},
   "source": [
    "# Spark RDD"
   ]
  },
  {
   "cell_type": "code",
   "execution_count": 4,
   "metadata": {
    "tags": []
   },
   "outputs": [
    {
     "name": "stderr",
     "output_type": "stream",
     "text": [
      "[Stage 22:==================================================>     (29 + 2) / 32]\r"
     ]
    },
    {
     "name": "stdout",
     "output_type": "stream",
     "text": [
      "('main', 8184)\n",
      "('main-archive', 1112)\n",
      "('main-rabota', 1047)\n",
      "('main-internet', 896)\n",
      "('main-bonus', 870)\n",
      "('main-news', 769)\n",
      "('main-tariffs', 677)\n",
      "('main-online', 587)\n",
      "('main-vklad', 518)\n",
      "('main-rabota-archive', 170)\n",
      "('main-archive-rabota', 167)\n",
      "('main-bonus-archive', 143)\n",
      "('main-rabota-bonus', 138)\n",
      "('main-bonus-rabota', 136)\n",
      "('main-news-rabota', 135)\n",
      "('main-archive-internet', 132)\n",
      "('main-rabota-news', 130)\n",
      "('main-internet-rabota', 129)\n",
      "('main-archive-news', 126)\n",
      "('main-rabota-internet', 124)\n",
      "('main-internet-archive', 123)\n",
      "('main-archive-bonus', 117)\n",
      "('main-internet-bonus', 115)\n",
      "('main-tariffs-internet', 114)\n",
      "('main-news-archive', 113)\n",
      "('main-news-internet', 109)\n",
      "('main-archive-tariffs', 104)\n",
      "('main-tariffs-archive', 103)\n",
      "('main-internet-news', 103)\n",
      "('main-rabota-main', 94)\n"
     ]
    },
    {
     "name": "stderr",
     "output_type": "stream",
     "text": [
      "                                                                                \r"
     ]
    }
   ],
   "source": [
    "def to_route(x):\n",
    "    route = []\n",
    "    last_word = None\n",
    "    sort_x = sorted(x, key=lambda x: (x.timestamp,\n",
    "                                      x.event_type,\n",
    "                                      x.event_page))\n",
    "    for i in sort_x:\n",
    "        if 'error' in i.event_type:\n",
    "            return '-'.join(route)\n",
    "        if last_word != i.event_page:\n",
    "            route.append(i.event_page)\n",
    "            last_word = i.event_page\n",
    "    return '-'.join(route)\n",
    "\n",
    "rdd_solution = (\n",
    "    clickstream.rdd\n",
    "    .groupBy(lambda x: (x.user_id, x.session_id))\n",
    "    .map(lambda x: (to_route(list(x[1])), 1))\n",
    "    .reduceByKey(lambda a, b: a + b)\n",
    "    .sortBy(lambda x: (x[1], x[0]), ascending = False)\n",
    "    .take(30)\n",
    ")\n",
    "\n",
    "print(*rdd_solution, sep='\\n')\n",
    "\n",
    "(\n",
    "    pd.DataFrame(rdd_solution, columns=['route', 'count'])\n",
    "    .to_csv('rdd_solution.csv', sep='\\t')\n",
    ")"
   ]
  },
  {
   "cell_type": "markdown",
   "metadata": {},
   "source": [
    "# Spark DF"
   ]
  },
  {
   "cell_type": "code",
   "execution_count": 5,
   "metadata": {
    "tags": []
   },
   "outputs": [
    {
     "name": "stderr",
     "output_type": "stream",
     "text": [
      "                                                                                \r"
     ]
    },
    {
     "name": "stdout",
     "output_type": "stream",
     "text": [
      "+--------------------+-----+\n",
      "|               route|count|\n",
      "+--------------------+-----+\n",
      "|                main| 8184|\n",
      "|        main-archive| 1112|\n",
      "|         main-rabota| 1047|\n",
      "|       main-internet|  896|\n",
      "|          main-bonus|  870|\n",
      "|           main-news|  769|\n",
      "|        main-tariffs|  677|\n",
      "|         main-online|  587|\n",
      "|          main-vklad|  518|\n",
      "| main-rabota-archive|  170|\n",
      "| main-archive-rabota|  167|\n",
      "|  main-bonus-archive|  143|\n",
      "|   main-rabota-bonus|  138|\n",
      "|   main-bonus-rabota|  136|\n",
      "|    main-news-rabota|  135|\n",
      "|main-archive-inte...|  132|\n",
      "|    main-rabota-news|  130|\n",
      "|main-internet-rabota|  129|\n",
      "|   main-archive-news|  126|\n",
      "|main-rabota-internet|  124|\n",
      "|main-internet-arc...|  123|\n",
      "|  main-archive-bonus|  117|\n",
      "| main-internet-bonus|  115|\n",
      "|main-tariffs-inte...|  114|\n",
      "|   main-news-archive|  113|\n",
      "|  main-news-internet|  109|\n",
      "|main-archive-tariffs|  104|\n",
      "|main-tariffs-archive|  103|\n",
      "|  main-internet-news|  103|\n",
      "|    main-rabota-main|   94|\n",
      "+--------------------+-----+\n",
      "\n"
     ]
    },
    {
     "name": "stderr",
     "output_type": "stream",
     "text": [
      "                                                                                \r"
     ]
    }
   ],
   "source": [
    "from pyspark.sql.window import Window\n",
    "from pyspark.sql.functions import sum, col, lag, \\\n",
    "                                  regexp_replace, collect_list\n",
    "\n",
    "window = (Window\n",
    "          .partitionBy([\"user_id\", \"session_id\"])\n",
    "          .orderBy([\"timestamp\", \"event_type\", \"event_page\"]))\n",
    "window_collect_list = Window.partitionBy([\"user_id\",\n",
    "                                          \"session_id\"])\n",
    "\n",
    "df_solution = (\n",
    "    clickstream\n",
    "    .withColumn(\"error\", sum(col(\"event_type\")\n",
    "                             .like('%error%')\n",
    "                             .cast('int')).over(window))\n",
    "    .orderBy(\"timestamp\", \"event_type\", \"event_page\")\n",
    "    .filter(col(\"error\") == 0)\n",
    "    .withColumn(\"change\", sum((col(\"event_page\") != lag(\"event_page\")\n",
    "                               .over(window))\n",
    "                              .cast('int'))\n",
    "                .over(window))\n",
    "    .fillna({\"change\": 0})\n",
    "    .select(\"user_id\", \"session_id\", \"event_page\", \"change\")\n",
    "    .distinct()\n",
    "    .select(\n",
    "        \"user_id\",\n",
    "        \"session_id\",\n",
    "        (\n",
    "            regexp_replace(\n",
    "                regexp_replace(\n",
    "                    collect_list('event_page')\n",
    "                    .over(window_collect_list)\n",
    "                    .cast(\"string\"),\n",
    "                    '[\\\\[\\\\]]', ''\n",
    "                ),\n",
    "                ', ', '-')\n",
    "        ).alias('route')\n",
    "    )\n",
    "    .distinct()\n",
    "    .groupBy('route')\n",
    "    .count()\n",
    "    .orderBy(['count', 'route'], ascending=[False, False])\n",
    "    .limit(30)\n",
    ")\n",
    "\n",
    "df_solution.show(30)\n",
    "df_solution.toPandas().to_csv('df_solution.csv', sep='\\t')\n"
   ]
  },
  {
   "cell_type": "markdown",
   "metadata": {},
   "source": [
    "# CHECK"
   ]
  },
  {
   "cell_type": "code",
   "execution_count": 6,
   "metadata": {
    "tags": []
   },
   "outputs": [
    {
     "name": "stdout",
     "output_type": "stream",
     "text": [
      "True\n",
      "True\n",
      "True\n"
     ]
    }
   ],
   "source": [
    "sql_solution_df = pd.read_csv('sql_solution.csv', index_col=0, sep='\\t')\n",
    "rdd_solution_df = pd.read_csv('rdd_solution.csv', index_col=0, sep='\\t')\n",
    "df_solution_df = pd.read_csv('df_solution.csv', index_col=0, sep='\\t')\n",
    "\n",
    "print(sql_solution_df.equals(rdd_solution_df),\n",
    "      rdd_solution_df.equals(df_solution_df),\n",
    "      sql_solution_df.equals(df_solution_df),\n",
    "      sep='\\n')"
   ]
  },
  {
   "cell_type": "code",
   "execution_count": null,
   "metadata": {},
   "outputs": [],
   "source": []
  }
 ],
 "metadata": {
  "coursera": {
   "schema_names": [
    "week-4-spark-homework"
   ]
  },
  "kernelspec": {
   "display_name": "Python 3 (ipykernel)",
   "language": "python",
   "name": "python3"
  },
  "language_info": {
   "codemirror_mode": {
    "name": "ipython",
    "version": 3
   },
   "file_extension": ".py",
   "mimetype": "text/x-python",
   "name": "python",
   "nbconvert_exporter": "python",
   "pygments_lexer": "ipython3",
   "version": "3.10.9"
  },
  "vscode": {
   "interpreter": {
    "hash": "31f2aee4e71d21fbe5cf8b01ff0e069b9275f58929596ceb00d14d90e3e16cd6"
   }
  }
 },
 "nbformat": 4,
 "nbformat_minor": 4
}
